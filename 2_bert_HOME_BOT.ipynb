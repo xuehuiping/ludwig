{
 "cells": [
  {
   "cell_type": "markdown",
   "metadata": {},
   "source": [
    "2020-04-17 16:43:01\n",
    "\n",
    "上份笔记是在plato框架上面运行的。\n",
    "这次使用ludwig深度学习框架继续训练模型，以分析模型的效果。\n",
    "\n",
    "\n",
    "```\n",
    "ludwig=ludwig.cli:main\n",
    "\n",
    "ludwig命令，执行的是ludwig.cli:main方法\n",
    "```\n",
    "\n",
    "可选参数：\n",
    "```\n",
    "Available sub-commands:\n",
    "   experiment            Runs a full experiment training a model and testing it\n",
    "   train                 Trains a model\n",
    "   predict               Predicts using a pretrained model\n",
    "   serve                 Serves a pretrained model\n",
    "   test                  Tests a pretrained model\n",
    "   visualize             Visualizes experimental results\n",
    "   collect_weights       Collects tensors containing a pretrained model weights\n",
    "   collect_activations   Collects tensors for each datapoint using a pretrained model\n",
    "```"
   ]
  },
  {
   "cell_type": "markdown",
   "metadata": {},
   "source": [
    "修改yaml文件\n",
    "\n",
    "见`yml/metalWOZ_HOME_BOT_seq2seq_ludwig.yaml`\n"
   ]
  },
  {
   "cell_type": "code",
   "execution_count": 2,
   "metadata": {},
   "outputs": [
    {
     "name": "stdout",
     "output_type": "stream",
     "text": [
      "Collecting bert-tensorflow\n",
      "  Downloading bert_tensorflow-1.0.1-py2.py3-none-any.whl (67 kB)\n",
      "\u001b[K     |████████████████████████████████| 67 kB 28 kB/s eta 0:00:01\n",
      "\u001b[?25hRequirement already satisfied: six in ./env/lib/python3.6/site-packages (from bert-tensorflow) (1.14.0)\n",
      "Installing collected packages: bert-tensorflow\n",
      "Successfully installed bert-tensorflow-1.0.1\n"
     ]
    }
   ],
   "source": [
    "!pip install bert-tensorflow"
   ]
  },
  {
   "cell_type": "raw",
   "metadata": {},
   "source": [
    "!ludwig experiment \\\n",
    "  --data_csv data/HOME_BOT.csv \\\n",
    "  --model_definition_file yml/metalWOZ_HOME_BOT_seq2seq_ludwig.yaml \\\n",
    "  --output_directory models/HOME_BOT  "
   ]
  },
  {
   "cell_type": "markdown",
   "metadata": {},
   "source": [
    "2020-04-17 16:49:00\n",
    "放到后台去运行\n",
    "\n",
    "```\n",
    "(env) xuehp@haomeiya002:~/git/ludwig$ nohup ludwig experiment \\\n",
    ">   --data_csv data/HOME_BOT.csv \\\n",
    ">   --model_definition_file yml/metalWOZ_HOME_BOT_seq2seq_ludwig.yaml \\\n",
    ">   --output_directory models/HOME_BOT  > log.4.17.bert.HOME_BOT.txt &\n",
    "[1] 17331\n",
    "```\n",
    "\n",
    "生成模型文件models/HOME_BOT/experiment_run_3"
   ]
  }
 ],
 "metadata": {
  "kernelspec": {
   "display_name": "Python 3",
   "language": "python",
   "name": "python3"
  },
  "language_info": {
   "codemirror_mode": {
    "name": "ipython",
    "version": 3
   },
   "file_extension": ".py",
   "mimetype": "text/x-python",
   "name": "python",
   "nbconvert_exporter": "python",
   "pygments_lexer": "ipython3",
   "version": "3.6.9"
  }
 },
 "nbformat": 4,
 "nbformat_minor": 2
}
